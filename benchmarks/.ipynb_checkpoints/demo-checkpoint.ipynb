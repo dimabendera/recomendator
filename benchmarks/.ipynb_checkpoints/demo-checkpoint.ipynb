{
 "cells": [
  {
   "cell_type": "markdown",
   "metadata": {},
   "source": [
    "# Recomendator demo"
   ]
  },
  {
   "cell_type": "code",
   "execution_count": 32,
   "metadata": {},
   "outputs": [],
   "source": [
    "from keras.utils.vis_utils import plot_model"
   ]
  },
  {
   "cell_type": "code",
   "execution_count": 1,
   "metadata": {},
   "outputs": [],
   "source": [
    "import pandas as pd\n",
    "import os\n",
    "import sys\n",
    "import random\n",
    "import numpy as np\n",
    "import collections"
   ]
  },
  {
   "cell_type": "code",
   "execution_count": 2,
   "metadata": {},
   "outputs": [
    {
     "name": "stderr",
     "output_type": "stream",
     "text": [
      "Using TensorFlow backend.\n",
      "WARNING: Logging before flag parsing goes to stderr.\n",
      "W0505 15:20:36.975833 139991991666496 deprecation_wrapper.py:119] From /var/www/recomendator/recomendator/recomendators/textonator.py:42: The name tf.ConfigProto is deprecated. Please use tf.compat.v1.ConfigProto instead.\n",
      "\n",
      "W0505 15:20:36.976307 139991991666496 deprecation_wrapper.py:119] From /var/www/recomendator/recomendator/recomendators/textonator.py:46: The name tf.Session is deprecated. Please use tf.compat.v1.Session instead.\n",
      "\n"
     ]
    }
   ],
   "source": [
    "PATH_TO_PROJECT = os.path.abspath(\"../\")\n",
    "\n",
    "sys.path.append(PATH_TO_PROJECT)\n",
    "from recomendator import Ranginator, Collaborator, metrics, Textonator"
   ]
  },
  {
   "cell_type": "code",
   "execution_count": 3,
   "metadata": {},
   "outputs": [],
   "source": [
    "PATH_TO_RATINGS = os.path.join(PATH_TO_PROJECT, 'datasets/ml-latest-small/ratings.csv')\n",
    "PATH_TO_MOVIES = os.path.join(PATH_TO_PROJECT, 'datasets/ml-latest-small/movies.csv')\n",
    "PATH_TO_TAGS    = os.path.join(PATH_TO_PROJECT, 'datasets/ml-latest-small/tags.csv')\n",
    "\n",
    "ratings = pd.read_csv(PATH_TO_RATINGS)\n",
    "movies = pd.read_csv(PATH_TO_MOVIES)\n",
    "tags    = pd.read_csv(PATH_TO_TAGS)"
   ]
  },
  {
   "cell_type": "markdown",
   "metadata": {},
   "source": [
    "## Lets see the dataset\n",
    "You may download this dataset from [here](http://files.grouplens.org/datasets/movielens/)."
   ]
  },
  {
   "cell_type": "code",
   "execution_count": 4,
   "metadata": {},
   "outputs": [
    {
     "name": "stdout",
     "output_type": "stream",
     "text": [
      "\n",
      "\n",
      "\t\t\tmovies\n",
      "\n",
      "\n",
      "   movieId                               title  \\\n",
      "0        1                    Toy Story (1995)   \n",
      "1        2                      Jumanji (1995)   \n",
      "2        3             Grumpier Old Men (1995)   \n",
      "3        4            Waiting to Exhale (1995)   \n",
      "4        5  Father of the Bride Part II (1995)   \n",
      "5        6                         Heat (1995)   \n",
      "6        7                      Sabrina (1995)   \n",
      "7        8                 Tom and Huck (1995)   \n",
      "8        9                 Sudden Death (1995)   \n",
      "9       10                    GoldenEye (1995)   \n",
      "\n",
      "                                        genres  \n",
      "0  Adventure|Animation|Children|Comedy|Fantasy  \n",
      "1                   Adventure|Children|Fantasy  \n",
      "2                               Comedy|Romance  \n",
      "3                         Comedy|Drama|Romance  \n",
      "4                                       Comedy  \n",
      "5                        Action|Crime|Thriller  \n",
      "6                               Comedy|Romance  \n",
      "7                           Adventure|Children  \n",
      "8                                       Action  \n",
      "9                    Action|Adventure|Thriller  \n",
      "\n",
      "\n",
      "\t\t\tratings\n",
      "\n",
      "\n",
      "   userId  movieId  rating  timestamp\n",
      "0       1        1     4.0  964982703\n",
      "1       1        3     4.0  964981247\n",
      "2       1        6     4.0  964982224\n",
      "3       1       47     5.0  964983815\n",
      "4       1       50     5.0  964982931\n",
      "5       1       70     3.0  964982400\n",
      "6       1      101     5.0  964980868\n",
      "7       1      110     4.0  964982176\n",
      "8       1      151     5.0  964984041\n",
      "9       1      157     5.0  964984100\n"
     ]
    }
   ],
   "source": [
    "print(\"\\n\\n\\t\\t\\tmovies\\n\\n\")\n",
    "print(movies[0:10])\n",
    "print(\"\\n\\n\\t\\t\\tratings\\n\\n\")\n",
    "print(ratings[0:10])"
   ]
  },
  {
   "cell_type": "markdown",
   "metadata": {},
   "source": [
    "## Example Ranginator \n",
    "Counts the difference between two objects on a given metric. \n",
    "<br>\n",
    "Default metric is a sim_distance. \n",
    "<br>\n",
    "All avalible metrics you may find [here](https://github.com/dimabendera/recomendator/blob/master/recomendator/metrics/metrics.py)\n",
    " <br>\n",
    "[More about Ranginator...](https://github.com/dimabendera/recomendator/blob/master/recomendator/recomendators/ranginator.py)"
   ]
  },
  {
   "cell_type": "code",
   "execution_count": 5,
   "metadata": {},
   "outputs": [],
   "source": [
    "ranginator = Ranginator()"
   ]
  },
  {
   "cell_type": "code",
   "execution_count": 6,
   "metadata": {},
   "outputs": [],
   "source": [
    "ranginator.fit(ratings[\"userId\"], ratings[\"movieId\"], ratings[\"rating\"])"
   ]
  },
  {
   "cell_type": "code",
   "execution_count": 7,
   "metadata": {},
   "outputs": [
    {
     "data": {
      "text/plain": [
       "[[(1.0, 291),\n",
       "  (1.0, 253),\n",
       "  (1.0, 85),\n",
       "  (1.0, 77),\n",
       "  (0.8, 550),\n",
       "  (0.8, 511),\n",
       "  (0.8, 472),\n",
       "  (0.8, 278),\n",
       "  (0.6666666666666666, 366),\n",
       "  (0.6666666666666666, 12),\n",
       "  (0.5, 523),\n",
       "  (0.5, 519),\n",
       "  (0.5, 481),\n",
       "  (0.5, 388),\n",
       "  (0.5, 360)]]"
      ]
     },
     "execution_count": 7,
     "metadata": {},
     "output_type": "execute_result"
    }
   ],
   "source": [
    "ranginator.predict([1], N=15)"
   ]
  },
  {
   "cell_type": "markdown",
   "metadata": {},
   "source": [
    "Explain: we see similar users for user whith id 1."
   ]
  },
  {
   "cell_type": "markdown",
   "metadata": {},
   "source": [
    "## Example Collaborator \n",
    "Find simple items. It is like together with this look. Use Ranginator. \n",
    " <br>\n",
    "[More about Collaborator...](https://github.com/dimabendera/recomendator/blob/master/recomendator/recomendators/collaborator.py)"
   ]
  },
  {
   "cell_type": "code",
   "execution_count": 8,
   "metadata": {},
   "outputs": [],
   "source": [
    "collaborator = Collaborator(metric=metrics.sim_pearson)"
   ]
  },
  {
   "cell_type": "code",
   "execution_count": 9,
   "metadata": {},
   "outputs": [],
   "source": [
    "collaborator.fit(ratings[\"userId\"], ratings[\"movieId\"], ratings[\"rating\"])"
   ]
  },
  {
   "cell_type": "code",
   "execution_count": 10,
   "metadata": {},
   "outputs": [
    {
     "name": "stdout",
     "output_type": "stream",
     "text": [
      "[[(1.0, 416), (1.0, 370), (1.0, 363), (1.0, 341), (1.0, 313), (1.0, 240), (1.0, 148), (1.0, 143), (1.0, 93), (1.0, 60)]]\n"
     ]
    },
    {
     "data": {
      "text/plain": [
       "[122918,\n",
       " 98491,\n",
       " 69069,\n",
       " 59900,\n",
       " 46976,\n",
       " 30816,\n",
       " 26810,\n",
       " 8827,\n",
       " 7444,\n",
       " 7169,\n",
       " 6619,\n",
       " 5951,\n",
       " 5540,\n",
       " 5254,\n",
       " 5066,\n",
       " 5026,\n",
       " 5010,\n",
       " 4979,\n",
       " 4941,\n",
       " 4915,\n",
       " 4180,\n",
       " 4006,\n",
       " 3994,\n",
       " 3863,\n",
       " 3771,\n",
       " 3740,\n",
       " 3727,\n",
       " 3704,\n",
       " 3703,\n",
       " 3701,\n",
       " 3697,\n",
       " 3550,\n",
       " 3527,\n",
       " 3262,\n",
       " 3153,\n",
       " 3032,\n",
       " 2867,\n",
       " 2710,\n",
       " 2542,\n",
       " 2530,\n",
       " 2529,\n",
       " 2467,\n",
       " 2431,\n",
       " 2287,\n",
       " 2268,\n",
       " 2144,\n",
       " 2140,\n",
       " 2138,\n",
       " 2117,\n",
       " 2028,\n",
       " 2020,\n",
       " 1997,\n",
       " 1923,\n",
       " 1885,\n",
       " 1625,\n",
       " 1587,\n",
       " 1449,\n",
       " 1394,\n",
       " 1275,\n",
       " 1274,\n",
       " 1258,\n",
       " 1235,\n",
       " 1222,\n",
       " 1215,\n",
       " 1213,\n",
       " 1200,\n",
       " 1129,\n",
       " 1059,\n",
       " 968,\n",
       " 880,\n",
       " 866,\n",
       " 858,\n",
       " 610,\n",
       " 553,\n",
       " 542,\n",
       " 524,\n",
       " 516,\n",
       " 432,\n",
       " 383,\n",
       " 370,\n",
       " 344,\n",
       " 338,\n",
       " 328,\n",
       " 317,\n",
       " 292,\n",
       " 276,\n",
       " 267,\n",
       " 255,\n",
       " 248,\n",
       " 216,\n",
       " 174,\n",
       " 110,\n",
       " 104,\n",
       " 101,\n",
       " 34,\n",
       " 19,\n",
       " 2,\n",
       " 81847,\n",
       " 750,\n",
       " 223,\n",
       " 593]"
      ]
     },
     "execution_count": 10,
     "metadata": {},
     "output_type": "execute_result"
    }
   ],
   "source": [
    "similarItems = collaborator.predict([2])\n",
    "similarItems = [item[1] for item in similarItems[0] if item[0] > 0.9]\n",
    "similarItems"
   ]
  },
  {
   "cell_type": "markdown",
   "metadata": {},
   "source": [
    "Lets explain. <br>\n",
    "User see films:"
   ]
  },
  {
   "cell_type": "code",
   "execution_count": 11,
   "metadata": {},
   "outputs": [
    {
     "name": "stdout",
     "output_type": "stream",
     "text": [
      "277    Shawshank Redemption, The (1994)\n",
      "291    Tommy Boy (1995)\n",
      "1284    Good Will Hunting (1997)\n",
      "2674    Gladiator (2000)\n",
      "4615    Kill Bill: Vol. 1 (2003)\n",
      "5305    Collateral (2004)\n",
      "6253    Talladega Nights: The Ballad of Ricky Bobby (2...\n",
      "6315    Departed, The (2006)\n",
      "6710    Dark Knight, The (2008)\n",
      "6801    Step Brothers (2008)\n",
      "7010    Inglourious Basterds (2009)\n",
      "7154    Zombieland (2009)\n",
      "7258    Shutter Island (2010)\n",
      "7323    Exit Through the Gift Shop (2010)\n",
      "7372    Inception (2010)\n",
      "7415    Town, The (2010)\n",
      "7436    Inside Job (2010)\n",
      "7590    Louis C.K.: Hilarious (2010)\n",
      "7697    Warrior (2011)\n",
      "7768    Dark Knight Rises, The (2012)\n",
      "7776    Girl with the Dragon Tattoo, The (2011)\n",
      "8063    Django Unchained (2012)\n",
      "8305    Wolf of Wall Street, The (2013)\n",
      "8376    Interstellar (2014)\n",
      "8466    Whiplash (2014)\n",
      "8509    The Drop (2014)\n",
      "8550    Ex Machina (2015)\n",
      "8681    Mad Max: Fury Road (2015)\n",
      "8828    The Jinx: The Life and Deaths of Robert Durst ...\n"
     ]
    }
   ],
   "source": [
    "for movieId in collaborator.storage.storage[2].keys():\n",
    "    a = movies[movies['movieId'] == movieId][\"title\"].to_string()\n",
    "    print(a)"
   ]
  },
  {
   "cell_type": "markdown",
   "metadata": {},
   "source": [
    "We recomendate him:"
   ]
  },
  {
   "cell_type": "code",
   "execution_count": 12,
   "metadata": {},
   "outputs": [
    {
     "name": "stdout",
     "output_type": "stream",
     "text": [
      "8695    Guardians of the Galaxy 2 (2017)\n",
      "8043    Paperman (2012)\n",
      "7041    Fired Up (2009)\n",
      "6763    You Don't Mess with the Zohan (2008)\n",
      "6256    Stranger than Fiction (2006)\n",
      "5739    Phantom of the Opera, The (2004)\n",
      "5580    Bad Boy Bubby (1993)\n",
      "5316    Bill Cosby, Himself (1983)\n",
      "4939    13 Going on 30 (2004)\n",
      "4812    Chasing Liberty (2004)\n",
      "4481    Uptown Girls (2003)\n",
      "4136    Morvern Callar (2002)\n",
      "3939    Clash of the Titans (1981)\n",
      "3764    Blade II (2002)\n",
      "3678    Walk to Remember, A (2002)\n",
      "3656    Brotherhood of the Wolf (Pacte des loups, Le) ...\n",
      "3646    Black Hawk Down (2001)\n",
      "3628    Royal Tenenbaums, The (2001)\n",
      "3599    Flash Gordon (1980)\n",
      "3585    Beastmaster, The (1982)\n",
      "3110    Reform School Girls (1986)\n",
      "2991    Transformers: The Movie (1986)\n",
      "2982    Unbreakable (2000)\n",
      "2888    Cell, The (2000)\n",
      "2823    The Golden Voyage of Sinbad (1973)\n",
      "2798    Big Trouble in Little China (1986)\n",
      "2786    Near Dark (1987)\n",
      "2766    Mad Max Beyond Thunderdome (1985)\n",
      "2765    Road Warrior, The (Mad Max 2) (1981)\n",
      "2763    Alien Nation (1988)\n",
      "2759    Predator 2 (1990)\n",
      "2652    The Hunger (1983)\n",
      "2636    Predator (1987)\n",
      "2449    Twin Peaks: Fire Walk with Me (1992)\n",
      "2376    7th Voyage of Sinbad, The (1958)\n",
      "2285    Omega Man, The (1971)\n",
      "2153    Fright Night (1985)\n",
      "2035    Blair Witch Project, The (1999)\n",
      "1917    Lock, Stock & Two Smoking Barrels (1998)\n",
      "1906    Beneath the Planet of the Apes (1970)\n",
      "1905    Planet of the Apes (1968)\n",
      "1855    Name of the Rose, The (Name der Rose, Der) (1986)\n",
      "1830    Patch Adams (1998)\n",
      "1700    Them! (1954)\n",
      "1687    Few Good Men, A (1992)\n",
      "1602    Sixteen Candles (1984)\n",
      "1598    Dark Crystal, The (1982)\n",
      "1596    Watership Down (1978)\n",
      "1578    1984 (Nineteen Eighty-Four) (1984)\n",
      "1503    Saving Private Ryan (1998)\n",
      "1495    Dangerous Liaisons (1988)\n",
      "1472    Exorcist, The (1973)\n",
      "1404    There's Something About Mary (1998)\n",
      "1376    Opposite of Sex, The (1998)\n",
      "1224    Game, The (1997)\n",
      "1190    Conan the Barbarian (1982)\n",
      "1113    Waiting for Guffman (1996)\n",
      "1074    Raising Arizona (1987)\n",
      "974    Highlander (1986)\n",
      "973    Akira (1988)\n",
      "957    Shining, The (1980)\n",
      "935    Harold and Maude (1971)\n",
      "923    Full Metal Jacket (1987)\n",
      "916    Army of Darkness (1993)\n",
      "914    Goodfellas (1990)\n",
      "902    Aliens (1986)\n",
      "858    Escape from New York (1981)\n",
      "809    William Shakespeare's Romeo + Juliet (1996)\n",
      "741    Night of the Living Dead (1968)\n",
      "668    Island of Dr. Moreau, The (1996)\n",
      "661    Bound (1996)\n",
      "659    Godfather, The (1972)\n",
      "522    Heavy Metal (1981)\n",
      "485    Tombstone (1993)\n",
      "475    Son in Law (1993)\n",
      "459    Rudy (1993)\n",
      "451    Renaissance Man (1994)\n",
      "376    City Slickers II: The Legend of Curly's Gold (...\n",
      "340    Wyatt Earp (1994)\n",
      "328    Naked Gun 33 1/3: The Final Insult (1994)\n",
      "302    Ace Ventura: Pet Detective (1994)\n",
      "296    Virtuosity (1995)\n",
      "286    Tales from the Crypt Presents: Demon Knight (1...\n",
      "276    Santa Clause, The (1994)\n",
      "253    Outbreak (1995)\n",
      "238    Milk Money (1994)\n",
      "230    Major Payne (1995)\n",
      "219    Jerky Boys, The (1995)\n",
      "212    Houseguest (1994)\n",
      "184    Billy Madison (1995)\n",
      "146    Jury Duty (1995)\n",
      "97    Braveheart (1995)\n",
      "92    Happy Gilmore (1996)\n",
      "89    Bottle Rocket (1996)\n",
      "32    Babe (1995)\n",
      "18    Ace Ventura: When Nature Calls (1995)\n",
      "1    Jumanji (1995)\n",
      "7467    Tangled (2010)\n",
      "602    Dr. Strangelove or: How I Learned to Stop Worr...\n",
      "190    Clerks (1994)\n",
      "510    Silence of the Lambs, The (1991)\n"
     ]
    }
   ],
   "source": [
    "for movieId in similarItems:\n",
    "    a = movies[movies['movieId'] == movieId][\"title\"].to_string()\n",
    "    print(a)"
   ]
  },
  {
   "cell_type": "markdown",
   "metadata": {},
   "source": [
    "# Item by item"
   ]
  },
  {
   "cell_type": "markdown",
   "metadata": {},
   "source": [
    "Convert ower data:"
   ]
  },
  {
   "cell_type": "code",
   "execution_count": 13,
   "metadata": {},
   "outputs": [
    {
     "name": "stderr",
     "output_type": "stream",
     "text": [
      "/usr/local/lib/python3.7/site-packages/ipykernel_launcher.py:3: UserWarning: Boolean Series key will be reindexed to match DataFrame index.\n",
      "  This is separate from the ipykernel package so we can avoid doing imports until\n"
     ]
    }
   ],
   "source": [
    "c = collections.Counter()\n",
    "for userId in set(ratings[\"userId\"]):\n",
    "    moviesl = ratings[ratings['userId'] == userId][ratings[\"rating\"] > 4.0][\"movieId\"]\n",
    "    for movieId in moviesl: \n",
    "        for othetMovieId in moviesl:\n",
    "            if movieId != othetMovieId:\n",
    "                c[(movieId, othetMovieId)] += 1\n",
    "                \n",
    "X_movie = []\n",
    "y_movie = []\n",
    "coefs = []\n",
    "for item in c:\n",
    "    X_movie.append(item[0])\n",
    "    y_movie.append(item[1])\n",
    "    coefs.append(c[item])\n",
    "del c"
   ]
  },
  {
   "cell_type": "code",
   "execution_count": 14,
   "metadata": {},
   "outputs": [],
   "source": [
    "ranginator = Ranginator(metric=metrics.sim_pearson)\n",
    "ranginator.fit(X_movie, y_movie, coefs)"
   ]
  },
  {
   "cell_type": "code",
   "execution_count": 15,
   "metadata": {},
   "outputs": [
    {
     "data": {
      "text/plain": [
       "[[(0.9240925040551332, 4896),\n",
       "  (0.8479107373148811, 647),\n",
       "  (0.844836274621972, 40815),\n",
       "  (0.8391637849228034, 54001),\n",
       "  (0.8380081151949728, 8368),\n",
       "  (0.8063019720507922, 830),\n",
       "  (0.806028379420027, 88125),\n",
       "  (0.7966763195252236, 81834),\n",
       "  (0.792494285683096, 69844),\n",
       "  (0.74448116122135, 2025),\n",
       "  (0.7332578717910011, 41566),\n",
       "  (0.6917170202292143, 4306),\n",
       "  (0.6915389849645263, 4886),\n",
       "  (0.6651148182227588, 5349),\n",
       "  (0.6509140962411836, 6539),\n",
       "  (0.6497430761157058, 5378),\n",
       "  (0.6493539193266219, 2394),\n",
       "  (0.6488363334684162, 33493),\n",
       "  (0.64489715161454, 34405),\n",
       "  (0.643744681396224, 31685),\n",
       "  (0.6362633456578646, 3793),\n",
       "  (0.6353643959308812, 45722),\n",
       "  (0.6343545155644557, 6333),\n",
       "  (0.6334372939672133, 5952),\n",
       "  (0.63101182908416, 8636),\n",
       "  (0.6306541393413291, 7153),\n",
       "  (0.6232261089883168, 4993),\n",
       "  (0.6200606642809044, 364),\n",
       "  (0.619907255131367, 5218),\n",
       "  (0.6089265419467582, 2012)]]"
      ]
     },
     "execution_count": 15,
     "metadata": {},
     "output_type": "execute_result"
    }
   ],
   "source": [
    "similarItems = ranginator.predict([5816], N=30) # Harry Potter\n",
    "similarItems"
   ]
  },
  {
   "cell_type": "code",
   "execution_count": 16,
   "metadata": {},
   "outputs": [
    {
     "data": {
      "text/plain": [
       "[4896,\n",
       " 647,\n",
       " 40815,\n",
       " 54001,\n",
       " 8368,\n",
       " 830,\n",
       " 88125,\n",
       " 81834,\n",
       " 69844,\n",
       " 2025,\n",
       " 41566,\n",
       " 4306,\n",
       " 4886,\n",
       " 5349,\n",
       " 6539,\n",
       " 5378,\n",
       " 2394,\n",
       " 33493,\n",
       " 34405,\n",
       " 31685,\n",
       " 3793,\n",
       " 45722,\n",
       " 6333,\n",
       " 5952,\n",
       " 8636,\n",
       " 7153,\n",
       " 4993,\n",
       " 364,\n",
       " 5218,\n",
       " 2012]"
      ]
     },
     "execution_count": 16,
     "metadata": {},
     "output_type": "execute_result"
    }
   ],
   "source": [
    "similarItemsSorted = [item[1] for item in similarItems[0]]\n",
    "similarItemsSorted"
   ]
  },
  {
   "cell_type": "markdown",
   "metadata": {},
   "source": [
    "Explain:"
   ]
  },
  {
   "cell_type": "code",
   "execution_count": 17,
   "metadata": {},
   "outputs": [
    {
     "name": "stdout",
     "output_type": "stream",
     "text": [
      "3574    Harry Potter and the Sorcerer's Stone (a.k.a. ...\n",
      "545    Courage Under Fire (1996)\n",
      "6062    Harry Potter and the Goblet of Fire (2005)\n",
      "6522    Harry Potter and the Order of the Phoenix (2007)\n",
      "5166    Harry Potter and the Prisoner of Azkaban (2004)\n",
      "644    First Wives Club, The (1996)\n",
      "7644    Harry Potter and the Deathly Hallows: Part 2 (...\n",
      "7465    Harry Potter and the Deathly Hallows: Part 1 (...\n",
      "7078    Harry Potter and the Half-Blood Prince (2009)\n",
      "1500    Lolita (1997)\n",
      "6075    Chronicles of Narnia: The Lion, the Witch and ...\n",
      "3194    Shrek (2001)\n",
      "3568    Monsters, Inc. (2001)\n",
      "3819    Spider-Man (2002)\n",
      "4427    Pirates of the Caribbean: The Curse of the Bla...\n",
      "3832    Star Wars: Episode II - Attack of the Clones (...\n",
      "1795    Prince of Egypt, The (1998)\n",
      "5896    Star Wars: Episode III - Revenge of the Sith (...\n",
      "5954    Serenity (2005)\n",
      "5794    Hitch (2005)\n",
      "2836    X-Men (2000)\n",
      "6221    Pirates of the Caribbean: Dead Man's Chest (2006)\n",
      "4334    X2: X-Men United (2003)\n",
      "4137    Lord of the Rings: The Two Towers, The (2002)\n",
      "5260    Spider-Man 2 (2004)\n",
      "4800    Lord of the Rings: The Return of the King, The...\n",
      "3638    Lord of the Rings: The Fellowship of the Ring,...\n",
      "322    Lion King, The (1994)\n",
      "3745    Ice Age (2002)\n",
      "1487    Back to the Future Part III (1990)\n"
     ]
    }
   ],
   "source": [
    "for movieId in similarItemsSorted:\n",
    "    a = movies[movies['movieId'] == movieId][\"title\"].to_string()\n",
    "    print(a)"
   ]
  },
  {
   "cell_type": "markdown",
   "metadata": {},
   "source": [
    "# Textonator"
   ]
  },
  {
   "cell_type": "code",
   "execution_count": 18,
   "metadata": {},
   "outputs": [
    {
     "name": "stderr",
     "output_type": "stream",
     "text": [
      "/usr/local/lib/python3.7/site-packages/ipykernel_launcher.py:3: UserWarning: Boolean Series key will be reindexed to match DataFrame index.\n",
      "  This is separate from the ipykernel package so we can avoid doing imports until\n"
     ]
    }
   ],
   "source": [
    "c = collections.Counter()\n",
    "for userId in set(ratings[\"userId\"]):\n",
    "    moviesl = ratings[ratings['userId'] == userId][ratings[\"rating\"] > 4.0][\"movieId\"]\n",
    "    for movieId in moviesl: \n",
    "        for othetMovieId in moviesl:\n",
    "            if movieId != othetMovieId:\n",
    "                c[(movieId, othetMovieId)] += 1"
   ]
  },
  {
   "cell_type": "code",
   "execution_count": 19,
   "metadata": {},
   "outputs": [],
   "source": [
    "movieInfoDict = {}\n",
    "for movie in movies.values:\n",
    "    movieInfoDict[movie[0]] = \"{} {}\".format(movie[1], movie[2].replace(\"|\", \" \"))\n",
    "\n",
    "    movieTags = set(tags[tags['movieId'] == movie[0]][\"tag\"].values)\n",
    "    for movieTag in movieTags:\n",
    "        movieInfoDict[movie[0]] += \" {}\".format(str(movieTag))\n"
   ]
  },
  {
   "cell_type": "code",
   "execution_count": 20,
   "metadata": {},
   "outputs": [],
   "source": [
    "X1_movie = []\n",
    "X2_movie = []\n",
    "y = []\n",
    "for item in c:\n",
    "    X1_movie.append(movieInfoDict[item[0]])\n",
    "    X2_movie.append(movieInfoDict[item[1]])\n",
    "    y.append(1)\n",
    "    \n",
    "    X1_movie.append(movieInfoDict[item[1]])\n",
    "    X2_movie.append(movieInfoDict[item[0]])\n",
    "    y.append(1)"
   ]
  },
  {
   "cell_type": "code",
   "execution_count": 21,
   "metadata": {},
   "outputs": [],
   "source": [
    "countMoviesPerMovie = len(c)/len(movies.values)\n",
    "for randomMovie1 in movies.values:\n",
    "    i = 0\n",
    "    while i < countMoviesPerMovie:\n",
    "        randomMovie2 = random.choice(movies.values)\n",
    "        if randomMovie1[0] != randomMovie2[0] and (randomMovie1[0], randomMovie2[0]) not in c and (randomMovie2[0], randomMovie1[0]) not in c:\n",
    "            X1_movie.append(movieInfoDict[randomMovie1[0]])\n",
    "            X2_movie.append(movieInfoDict[randomMovie2[0]])\n",
    "            y.append(0)\n",
    "\n",
    "            X1_movie.append(movieInfoDict[randomMovie2[0]])\n",
    "            X2_movie.append(movieInfoDict[randomMovie1[0]])\n",
    "            y.append(0)\n",
    "            i += 1"
   ]
  },
  {
   "cell_type": "code",
   "execution_count": 22,
   "metadata": {},
   "outputs": [],
   "source": [
    "textonator = Textonator(epochs=30)"
   ]
  },
  {
   "cell_type": "code",
   "execution_count": 23,
   "metadata": {},
   "outputs": [
    {
     "name": "stderr",
     "output_type": "stream",
     "text": [
      "100%|██████████| 5364680/5364680 [14:01<00:00, 6375.07it/s] \n",
      "W0505 15:41:25.907566 139991991666496 base_any2vec.py:723] consider setting layer size to a multiple of 4 for greater performance\n",
      "100%|██████████| 5364680/5364680 [13:52<00:00, 6444.51it/s] \n",
      "W0505 15:56:17.506916 139991991666496 base_any2vec.py:723] consider setting layer size to a multiple of 4 for greater performance\n",
      "100%|██████████| 5364680/5364680 [13:26<00:00, 6648.95it/s] \n",
      "100%|██████████| 5364680/5364680 [13:39<00:00, 6546.61it/s] \n",
      "W0505 16:25:05.508176 139991991666496 deprecation_wrapper.py:119] From /usr/local/lib64/python3.7/site-packages/keras/backend/tensorflow_backend.py:74: The name tf.get_default_graph is deprecated. Please use tf.compat.v1.get_default_graph instead.\n",
      "\n",
      "W0505 16:25:05.508804 139991991666496 deprecation_wrapper.py:119] From /usr/local/lib64/python3.7/site-packages/keras/backend/tensorflow_backend.py:517: The name tf.placeholder is deprecated. Please use tf.compat.v1.placeholder instead.\n",
      "\n",
      "W0505 16:25:05.509863 139991991666496 deprecation_wrapper.py:119] From /usr/local/lib64/python3.7/site-packages/keras/backend/tensorflow_backend.py:4138: The name tf.random_uniform is deprecated. Please use tf.random.uniform instead.\n",
      "\n",
      "W0505 16:25:05.904064 139991991666496 deprecation.py:506] From /usr/local/lib64/python3.7/site-packages/keras/backend/tensorflow_backend.py:3445: calling dropout (from tensorflow.python.ops.nn_ops) with keep_prob is deprecated and will be removed in a future version.\n",
      "Instructions for updating:\n",
      "Please use `rate` instead of `keep_prob`. Rate should be set to `rate = 1 - keep_prob`.\n",
      "W0505 16:25:06.157390 139991991666496 deprecation.py:506] From /usr/local/lib/python3.7/site-packages/tensorflow/python/training/moving_averages.py:211: calling Zeros.__init__ (from tensorflow.python.ops.init_ops) with dtype is deprecated and will be removed in a future version.\n",
      "Instructions for updating:\n",
      "Call initializer instance with the dtype argument instead of passing it to the constructor\n",
      "W0505 16:25:06.190749 139991991666496 deprecation_wrapper.py:119] From /usr/local/lib64/python3.7/site-packages/keras/optimizers.py:790: The name tf.train.Optimizer is deprecated. Please use tf.compat.v1.train.Optimizer instead.\n",
      "\n",
      "W0505 16:25:06.194572 139991991666496 deprecation_wrapper.py:119] From /usr/local/lib64/python3.7/site-packages/keras/backend/tensorflow_backend.py:3378: The name tf.nn.sigmoid_cross_entropy_with_logits is deprecated. Please use tf.nn.sigmoid_cross_entropy_with_logits instead.\n",
      "\n"
     ]
    },
    {
     "name": "stdout",
     "output_type": "stream",
     "text": [
      "Train on 4291744 samples, validate on 1072936 samples\n",
      "Epoch 1/30\n",
      "4291744/4291744 [==============================] - 280s 65us/step - loss: 0.3735 - acc: 0.8357 - val_loss: 1.1544 - val_acc: 0.6096\n",
      "Epoch 2/30\n",
      "4291744/4291744 [==============================] - 284s 66us/step - loss: 0.3135 - acc: 0.8678 - val_loss: 1.2270 - val_acc: 0.6268\n",
      "Epoch 3/30\n",
      "4291744/4291744 [==============================] - 281s 65us/step - loss: 0.2981 - acc: 0.8754 - val_loss: 1.1355 - val_acc: 0.6558\n",
      "Epoch 4/30\n",
      "4291744/4291744 [==============================] - 281s 65us/step - loss: 0.2907 - acc: 0.8792 - val_loss: 1.1841 - val_acc: 0.6378\n",
      "Epoch 5/30\n",
      "4291744/4291744 [==============================] - 287s 67us/step - loss: 0.2861 - acc: 0.8815 - val_loss: 1.2412 - val_acc: 0.6282\n",
      "Epoch 6/30\n",
      "4291744/4291744 [==============================] - 278s 65us/step - loss: 0.2827 - acc: 0.8832 - val_loss: 1.1547 - val_acc: 0.6414\n",
      "Epoch 7/30\n",
      "4291744/4291744 [==============================] - 278s 65us/step - loss: 0.2808 - acc: 0.8842 - val_loss: 1.2047 - val_acc: 0.6403\n",
      "Epoch 8/30\n",
      "4291744/4291744 [==============================] - 283s 66us/step - loss: 0.2796 - acc: 0.8849 - val_loss: 1.1685 - val_acc: 0.6471\n",
      "Epoch 9/30\n",
      "4291744/4291744 [==============================] - 280s 65us/step - loss: 0.2781 - acc: 0.8856 - val_loss: 1.1735 - val_acc: 0.6435\n",
      "Epoch 10/30\n",
      "4291744/4291744 [==============================] - 280s 65us/step - loss: 0.2770 - acc: 0.8862 - val_loss: 1.0931 - val_acc: 0.6547\n",
      "Epoch 11/30\n",
      "4291744/4291744 [==============================] - 285s 66us/step - loss: 0.2757 - acc: 0.8867 - val_loss: 1.1585 - val_acc: 0.6531\n",
      "Epoch 12/30\n",
      "4291744/4291744 [==============================] - 282s 66us/step - loss: 0.2754 - acc: 0.8869 - val_loss: 1.1272 - val_acc: 0.6497\n",
      "Epoch 13/30\n",
      "4291744/4291744 [==============================] - 281s 65us/step - loss: 0.2746 - acc: 0.8873 - val_loss: 1.0619 - val_acc: 0.6659\n",
      "Epoch 14/30\n",
      "4291744/4291744 [==============================] - 285s 67us/step - loss: 0.2741 - acc: 0.8876 - val_loss: 1.1390 - val_acc: 0.6498\n",
      "Epoch 15/30\n",
      "4291744/4291744 [==============================] - 281s 65us/step - loss: 0.2740 - acc: 0.8878 - val_loss: 1.1380 - val_acc: 0.6487\n",
      "Epoch 16/30\n",
      "4291744/4291744 [==============================] - 280s 65us/step - loss: 0.2738 - acc: 0.8878 - val_loss: 1.0779 - val_acc: 0.6650\n",
      "Epoch 17/30\n",
      "4291744/4291744 [==============================] - 278s 65us/step - loss: 0.2734 - acc: 0.8879 - val_loss: 1.1206 - val_acc: 0.6582\n",
      "Epoch 18/30\n",
      "4291744/4291744 [==============================] - 287s 67us/step - loss: 0.2731 - acc: 0.8882 - val_loss: 1.1242 - val_acc: 0.6563\n",
      "Epoch 19/30\n",
      "4291744/4291744 [==============================] - 278s 65us/step - loss: 0.2729 - acc: 0.8881 - val_loss: 1.0523 - val_acc: 0.6711\n",
      "Epoch 20/30\n",
      "4291744/4291744 [==============================] - 278s 65us/step - loss: 0.2728 - acc: 0.8883 - val_loss: 1.0630 - val_acc: 0.6667\n",
      "Epoch 21/30\n",
      "4291744/4291744 [==============================] - 283s 66us/step - loss: 0.2727 - acc: 0.8882 - val_loss: 1.1332 - val_acc: 0.6485\n",
      "Epoch 22/30\n",
      "4291744/4291744 [==============================] - 278s 65us/step - loss: 0.2729 - acc: 0.8881 - val_loss: 1.0383 - val_acc: 0.6633\n",
      "Epoch 23/30\n",
      "4291744/4291744 [==============================] - 282s 66us/step - loss: 0.2729 - acc: 0.8884 - val_loss: 1.0669 - val_acc: 0.6643\n",
      "Epoch 24/30\n",
      "4291744/4291744 [==============================] - 283s 66us/step - loss: 0.2721 - acc: 0.8887 - val_loss: 1.1441 - val_acc: 0.6503\n",
      "Epoch 25/30\n",
      "4291744/4291744 [==============================] - 283s 66us/step - loss: 0.2721 - acc: 0.8884 - val_loss: 1.0829 - val_acc: 0.6609\n",
      "Epoch 26/30\n",
      "4291744/4291744 [==============================] - 285s 66us/step - loss: 0.2724 - acc: 0.8885 - val_loss: 1.1209 - val_acc: 0.6561\n",
      "Epoch 27/30\n",
      "4291744/4291744 [==============================] - 285s 66us/step - loss: 0.2724 - acc: 0.8887 - val_loss: 1.1072 - val_acc: 0.6556\n",
      "Epoch 28/30\n",
      "4291744/4291744 [==============================] - 281s 65us/step - loss: 0.2722 - acc: 0.8886 - val_loss: 1.1242 - val_acc: 0.6557\n",
      "Epoch 29/30\n",
      "4291744/4291744 [==============================] - 279s 65us/step - loss: 0.2726 - acc: 0.8884 - val_loss: 1.0953 - val_acc: 0.6568\n",
      "Epoch 30/30\n",
      "4291744/4291744 [==============================] - 282s 66us/step - loss: 0.2723 - acc: 0.8886 - val_loss: 1.0653 - val_acc: 0.6638\n"
     ]
    },
    {
     "data": {
      "text/plain": [
       "<keras.callbacks.History at 0x7f5122912cf8>"
      ]
     },
     "execution_count": 23,
     "metadata": {},
     "output_type": "execute_result"
    }
   ],
   "source": [
    "textonator.fit(X1_movie, X2_movie, y)"
   ]
  },
  {
   "cell_type": "code",
   "execution_count": 35,
   "metadata": {},
   "outputs": [
    {
     "name": "stdout",
     "output_type": "stream",
     "text": [
      "__________________________________________________________________________________________________\n",
      "Layer (type)                    Output Shape         Param #     Connected to                     \n",
      "==================================================================================================\n",
      "X1 (InputLayer)                 (None, 10)           0                                            \n",
      "__________________________________________________________________________________________________\n",
      "X2 (InputLayer)                 (None, 10)           0                                            \n",
      "__________________________________________________________________________________________________\n",
      "embedding_1 (Embedding)         (None, 10, 50)       500850      X1[0][0]                         \n",
      "__________________________________________________________________________________________________\n",
      "embedding_2 (Embedding)         (None, 10, 50)       500850      X2[0][0]                         \n",
      "__________________________________________________________________________________________________\n",
      "concatenate_1 (Concatenate)     (None, 10, 100)      0           embedding_1[0][0]                \n",
      "                                                                 embedding_2[0][0]                \n",
      "__________________________________________________________________________________________________\n",
      "spatial_dropout1d_1 (SpatialDro (None, 10, 100)      0           concatenate_1[0][0]              \n",
      "__________________________________________________________________________________________________\n",
      "bidirectional_1 (Bidirectional) (None, 128)          84480       spatial_dropout1d_1[0][0]        \n",
      "__________________________________________________________________________________________________\n",
      "dropout_1 (Dropout)             (None, 128)          0           bidirectional_1[0][0]            \n",
      "__________________________________________________________________________________________________\n",
      "batch_normalization_1 (BatchNor (None, 128)          512         dropout_1[0][0]                  \n",
      "__________________________________________________________________________________________________\n",
      "dense_1 (Dense)                 (None, 1)            129         batch_normalization_1[0][0]      \n",
      "==================================================================================================\n",
      "Total params: 1,086,821\n",
      "Trainable params: 84,865\n",
      "Non-trainable params: 1,001,956\n",
      "__________________________________________________________________________________________________\n"
     ]
    }
   ],
   "source": [
    "textonator.model.summary()"
   ]
  },
  {
   "cell_type": "code",
   "execution_count": 36,
   "metadata": {},
   "outputs": [
    {
     "data": {
      "text/plain": [
       "'Harry Potter and the Chamber of Secrets (2002) Adventure Fantasy Magic Wizards'"
      ]
     },
     "execution_count": 36,
     "metadata": {},
     "output_type": "execute_result"
    }
   ],
   "source": [
    "movieInfoDict[5816]"
   ]
  },
  {
   "cell_type": "code",
   "execution_count": 38,
   "metadata": {},
   "outputs": [
    {
     "data": {
      "text/plain": [
       "\"Harry Potter and the Sorcerer's Stone (a.k.a. Harry Potter and the Philosopher's Stone) (2001) Adventure Children Fantasy humorous alan rickman Magic Everything you want is here harry potter Wizards\""
      ]
     },
     "execution_count": 38,
     "metadata": {},
     "output_type": "execute_result"
    }
   ],
   "source": [
    "movieInfoDict[4896]"
   ]
  },
  {
   "cell_type": "code",
   "execution_count": 49,
   "metadata": {},
   "outputs": [
    {
     "name": "stderr",
     "output_type": "stream",
     "text": [
      "100%|██████████| 1/1 [00:00<00:00, 2863.01it/s]\n",
      "100%|██████████| 1/1 [00:00<00:00, 1896.16it/s]\n"
     ]
    },
    {
     "data": {
      "text/plain": [
       "array([[0.99124825]], dtype=float32)"
      ]
     },
     "execution_count": 49,
     "metadata": {},
     "output_type": "execute_result"
    }
   ],
   "source": [
    "textonator.predict([movieInfoDict[5816]], [movieInfoDict[4896]])"
   ]
  },
  {
   "cell_type": "code",
   "execution_count": 50,
   "metadata": {},
   "outputs": [
    {
     "data": {
      "text/plain": [
       "'Lolita (1997) Drama Romance'"
      ]
     },
     "execution_count": 50,
     "metadata": {},
     "output_type": "execute_result"
    }
   ],
   "source": [
    "movieInfoDict[2025]"
   ]
  },
  {
   "cell_type": "code",
   "execution_count": 41,
   "metadata": {},
   "outputs": [
    {
     "name": "stderr",
     "output_type": "stream",
     "text": [
      "100%|██████████| 1/1 [00:00<00:00, 2425.86it/s]\n",
      "100%|██████████| 1/1 [00:00<00:00, 5592.41it/s]\n"
     ]
    },
    {
     "data": {
      "text/plain": [
       "array([[0.11233654]], dtype=float32)"
      ]
     },
     "execution_count": 41,
     "metadata": {},
     "output_type": "execute_result"
    }
   ],
   "source": [
    "textonator.predict([movieInfoDict[5816]], [movieInfoDict[2025]])"
   ]
  },
  {
   "cell_type": "code",
   "execution_count": 47,
   "metadata": {},
   "outputs": [
    {
     "data": {
      "text/plain": [
       "'Shrek (2001) Adventure Animation Children Comedy Fantasy Romance fairy tales'"
      ]
     },
     "execution_count": 47,
     "metadata": {},
     "output_type": "execute_result"
    }
   ],
   "source": [
    "movieInfoDict[4306]"
   ]
  },
  {
   "cell_type": "code",
   "execution_count": 46,
   "metadata": {},
   "outputs": [
    {
     "name": "stderr",
     "output_type": "stream",
     "text": [
      "100%|██████████| 1/1 [00:00<00:00, 1721.80it/s]\n",
      "100%|██████████| 1/1 [00:00<00:00, 3269.14it/s]\n"
     ]
    },
    {
     "data": {
      "text/plain": [
       "array([[0.9896193]], dtype=float32)"
      ]
     },
     "execution_count": 46,
     "metadata": {},
     "output_type": "execute_result"
    }
   ],
   "source": [
    "textonator.predict([movieInfoDict[5816]], [movieInfoDict[4306]])"
   ]
  },
  {
   "cell_type": "code",
   "execution_count": null,
   "metadata": {},
   "outputs": [],
   "source": []
  }
 ],
 "metadata": {
  "kernelspec": {
   "display_name": "Python 3",
   "language": "python",
   "name": "python3"
  },
  "language_info": {
   "codemirror_mode": {
    "name": "ipython",
    "version": 3
   },
   "file_extension": ".py",
   "mimetype": "text/x-python",
   "name": "python",
   "nbconvert_exporter": "python",
   "pygments_lexer": "ipython3",
   "version": "3.7.3"
  }
 },
 "nbformat": 4,
 "nbformat_minor": 2
}
